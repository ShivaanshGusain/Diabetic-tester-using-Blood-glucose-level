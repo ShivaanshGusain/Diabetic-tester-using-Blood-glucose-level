{
 "cells": [
  {
   "cell_type": "code",
   "execution_count": 54,
   "id": "5d17812d",
   "metadata": {},
   "outputs": [
    {
     "name": "stdout",
     "output_type": "stream",
     "text": [
      "Validation Accuracy: 86.95%\n",
      "Predictions saved successfully to 'Predicted_Labels.csv'\n"
     ]
    },
    {
     "name": "stderr",
     "output_type": "stream",
     "text": [
      "C:\\Users\\Yogendar\\AppData\\Local\\Temp\\ipykernel_2108\\3003593140.py:43: SettingWithCopyWarning: \n",
      "A value is trying to be set on a copy of a slice from a DataFrame.\n",
      "Try using .loc[row_indexer,col_indexer] = value instead\n",
      "\n",
      "See the caveats in the documentation: https://pandas.pydata.org/pandas-docs/stable/user_guide/indexing.html#returning-a-view-versus-a-copy\n",
      "  test_data['Predicted_Label'] = y_test_pred\n"
     ]
    }
   ],
   "source": [
    "import pandas as pd\n",
    "from sklearn.model_selection import train_test_split\n",
    "from sklearn.feature_extraction.text import TfidfVectorizer\n",
    "from sklearn.linear_model import LogisticRegression\n",
    "from sklearn.metrics import accuracy_score\n",
    "\n",
    "# Load the CSV\n",
    "data = pd.read_csv('Neural.csv')\n",
    "\n",
    "# Keep only useful columns\n",
    "data = data[['Features', 'Label']]\n",
    "\n",
    "# Split into train (first 10000) and test (next 10000)\n",
    "train_data = data.iloc[:10000]\n",
    "test_data = data.iloc[10000:]\n",
    "\n",
    "# Features and Labels\n",
    "X = train_data['Features']\n",
    "y = train_data['Label']\n",
    "\n",
    "# Split into train and validation sets\n",
    "X_train, X_val, y_train, y_val = train_test_split(X, y, test_size=0.2, random_state=42)\n",
    "\n",
    "# Vectorize the text\n",
    "vectorizer = TfidfVectorizer(max_features=5000)\n",
    "X_train_vec = vectorizer.fit_transform(X_train)\n",
    "X_val_vec = vectorizer.transform(X_val)\n",
    "# Train the model\n",
    "model = LogisticRegression(max_iter=1000, random_state=42)\n",
    "model.fit(X_train_vec, y_train)\n",
    "\n",
    "# Validate the model\n",
    "y_val_pred = model.predict(X_val_vec)\n",
    "accuracy = accuracy_score(y_val, y_val_pred)\n",
    "print(f\"Validation Accuracy: {accuracy * 100:.2f}%\")\n",
    "\n",
    "# Predict for test data\n",
    "X_test = test_data['Features']\n",
    "X_test_vec = vectorizer.transform(X_test)\n",
    "y_test_pred = model.predict(X_test_vec)\n",
    "\n",
    "# Save the predictions\n",
    "test_data['Predicted_Label'] = y_test_pred\n",
    "test_data.to_csv('Predicted_Labels.csv', index=False)\n",
    "\n",
    "print(\"Predictions saved successfully to 'Predicted_Labels.csv'\")"
   ]
  },
  {
   "cell_type": "code",
   "execution_count": null,
   "id": "ec29434c",
   "metadata": {},
   "outputs": [
    {
     "ename": "",
     "evalue": "",
     "output_type": "error",
     "traceback": [
      "\u001b[1;31mFailed to start the Kernel. \n",
      "\u001b[1;31mUnable to start Kernel 'Python 3.12.5' due to a timeout waiting for the ports to get used. \n",
      "\u001b[1;31mView Jupyter <a href='command:jupyter.viewOutput'>log</a> for further details."
     ]
    }
   ],
   "source": [
    "import numpy as np\n",
    "import matplotlib.pyplot as plt\n",
    "from sklearn.linear_model import LogisticRegression\n",
    "\n",
    "# Step 1: Create example data\n",
    "# Each row is a sample: [feature1, feature2]\n",
    "X = np.array([\n",
    "    [1, 2],\n",
    "    [2, 3],\n",
    "    [3, 3],\n",
    "    [4, 5],\n",
    "    [6, 7],   # Class 0 (blue)\n",
    "    [7, 8],\n",
    "    [8, 8],\n",
    "    [9, 10],\n",
    "    [10, 12], # Class 1 (red)\n",
    "    [11, 13]\n",
    "])\n",
    "\n",
    "# Labels: 0 = Not Spam, 1 = Spam\n",
    "y = np.array([0, 0, 0, 0, 0, 1, 1, 1, 1, 1])\n",
    "\n",
    "# Step 2: Train the Logistic Regression model\n",
    "model = LogisticRegression()\n",
    "model.fit(X, y)\n",
    "\n",
    "# Step 3: Predict using the trained model\n",
    "predictions = model.predict(X)\n",
    "\n",
    "# Step 4: Visualize the decision boundary\n",
    "# Create a mesh grid for background\n",
    "x_min, x_max = X[:, 0].min()-1, X[:, 0].max()+1\n",
    "y_min, y_max = X[:, 1].min()-1, X[:, 1].max()+1\n",
    "xx, yy = np.meshgrid(np.linspace(x_min, x_max, 1),\n",
    "                     np.linspace(y_min, y_max, 1))\n",
    "grid = np.c_[xx.ravel(), yy.ravel()]\n",
    "probs = model.predict(grid).reshape(xx.shape)\n",
    "\n",
    "# Plot\n",
    "plt.contourf(xx, yy, probs, alpha=0.3, cmap='coolwarm')\n",
    "plt.scatter(X[:, 0], X[:, 1], c=y, cmap='coolwarm', edgecolors='k')\n",
    "plt.xlabel('Feature 1')\n",
    "plt.ylabel('Feature 2')\n",
    "plt.title('Logistic Regression Decision Boundary')\n",
    "plt.show()\n"
   ]
  },
  {
   "cell_type": "code",
   "execution_count": 44,
   "id": "caaee152",
   "metadata": {},
   "outputs": [
    {
     "name": "stdout",
     "output_type": "stream",
     "text": [
      "[[0 0 1]\n",
      " [0 0 1]\n",
      " [0 1 1]]\n"
     ]
    }
   ],
   "source": [
    "import numpy as np\n",
    "X = np.array([\n",
    "    [1, 2],\n",
    "    [2, 3],\n",
    "    [3, 3],\n",
    "    [4, 5],\n",
    "    [6, 7],   # Class 0 (blue)\n",
    "    [7, 8],\n",
    "    [8, 8],\n",
    "    [9, 10],\n",
    "    [10, 12], # Class 1 (red)\n",
    "    [11, 13]\n",
    "])\n",
    "x_min, x_max = X[:, 0].min()-1, X[:, 0].max()+1\n",
    "y_min, y_max = X[:, 1].min()-1, X[:, 1].max()+1\n",
    "xx, yy = np.meshgrid(np.linspace(x_min, x_max, 3),\n",
    "                     np.linspace(y_min, y_max, 3))\n",
    "grid = np.c_[xx.ravel(), yy.ravel()]\n",
    "probs = model.predict(grid).reshape(xx.shape)\n",
    "print(probs)  # Check the shape of the probabilities\n",
    "#print(grid)  # Check the shape of the grid\n",
    "# print(yy)  # Check the shape of the mesh grid\n",
    "# print(xx)  # Check the shape of the mesh grid"
   ]
  },
  {
   "cell_type": "code",
   "execution_count": 57,
   "id": "cd9b995e",
   "metadata": {},
   "outputs": [
    {
     "name": "stdout",
     "output_type": "stream",
     "text": [
      "Validation Accuracy: 86.95%\n"
     ]
    }
   ],
   "source": [
    "import pandas as pd\n",
    "from sklearn.model_selection import train_test_split\n",
    "from sklearn.feature_extraction.text import TfidfVectorizer\n",
    "from sklearn.linear_model import LogisticRegression\n",
    "\n",
    "data = pd.read_csv('Neural.csv')\n",
    "data = data[['Features', 'Label']]\n",
    "train_data = data.iloc[:10000]\n",
    "test_data = data.iloc[10000:]\n",
    "X = train_data['Features']\n",
    "y = train_data['Label']\n",
    "x_train, x_test, y_train, y_test = train_test_split(X,y,test_size = 0.2, random_state = 42)\n",
    "vectorizer = TfidfVectorizer(max_features = 5000)\n",
    "x_train_vec = vectorizer.fit_transform(x_train)\n",
    "x_test_vec = vectorizer.transform(x_test)\n",
    "\n",
    "model = LogisticRegression(max_iter=1000, random_state=42)\n",
    "model.fit(x_train_vec, y_train)\n",
    "y_test_pred = model.predict(x_test_vec)\n",
    "accuracy = accuracy_score(y_test, y_test_pred)\n",
    "print(f\"Validation Accuracy: {accuracy * 100:.2f}%\")"
   ]
  },
  {
   "cell_type": "code",
   "execution_count": null,
   "metadata": {},
   "outputs": [],
   "source": []
  },
  {
   "cell_type": "code",
   "execution_count": null,
   "id": "202f07e3",
   "metadata": {},
   "outputs": [],
   "source": []
  },
  {
   "cell_type": "code",
   "execution_count": null,
   "id": "26c31b05",
   "metadata": {},
   "outputs": [],
   "source": []
  },
  {
   "cell_type": "code",
   "execution_count": null,
   "id": "1cdd5dbd",
   "metadata": {},
   "outputs": [],
   "source": []
  },
  {
   "cell_type": "code",
   "execution_count": null,
   "metadata": {},
   "outputs": [],
   "source": []
  },
  {
   "cell_type": "code",
   "execution_count": null,
   "id": "263118a2",
   "metadata": {},
   "outputs": [],
   "source": []
  },
  {
   "cell_type": "code",
   "execution_count": null,
   "metadata": {},
   "outputs": [],
   "source": []
  },
  {
   "cell_type": "code",
   "execution_count": null,
   "metadata": {},
   "outputs": [],
   "source": []
  },
  {
   "cell_type": "code",
   "execution_count": null,
   "metadata": {},
   "outputs": [],
   "source": []
  },
  {
   "cell_type": "code",
   "execution_count": null,
   "metadata": {},
   "outputs": [],
   "source": []
  }
 ],
 "metadata": {
  "kernelspec": {
   "display_name": "Python 3",
   "language": "python",
   "name": "python3"
  },
  "language_info": {
   "codemirror_mode": {
    "name": "ipython",
    "version": 3
   },
   "file_extension": ".py",
   "mimetype": "text/x-python",
   "name": "python",
   "nbconvert_exporter": "python",
   "pygments_lexer": "ipython3",
   "version": "3.12.5"
  }
 },
 "nbformat": 4,
 "nbformat_minor": 5
}
